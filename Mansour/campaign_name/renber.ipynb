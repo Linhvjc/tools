{
 "cells": [
  {
   "cell_type": "code",
   "execution_count": 12,
   "metadata": {},
   "outputs": [
    {
     "data": {
      "text/plain": [
       "'DA ROI 122722 Attorneys US T049N C M AndrAndroid'"
      ]
     },
     "execution_count": 12,
     "metadata": {},
     "output_type": "execute_result"
    }
   ],
   "source": [
    "text='''                \n",
    "                                                               '''\n",
    "text = text.strip()\n",
    "text = text.split(\" XXXXXX \")\n",
    "head = text[0]\n",
    "tail = text[1]\n",
    "device = '''     \n",
    "                                                 '''\n",
    "title = '''      \n",
    "                                          '''\n",
    "date = '''       \n",
    "                                          '''\n",
    "device = device.strip();title = title.strip();date = date.strip()\n",
    "date_arr = date.split(\"/\")\n",
    "tail_arr = tail.split(\" T \")\n",
    "result = head + \" \" + date_arr[1] + date_arr[0] + \"22\" + \" \" + tail_arr[0] + \" \" + title + \" \" + tail_arr[1][:-3] + device\n",
    "result\n",
    "\n"
   ]
  },
  {
   "cell_type": "code",
   "execution_count": null,
   "metadata": {},
   "outputs": [],
   "source": []
  }
 ],
 "metadata": {
  "kernelspec": {
   "display_name": "Python 3",
   "language": "python",
   "name": "python3"
  },
  "language_info": {
   "codemirror_mode": {
    "name": "ipython",
    "version": 3
   },
   "file_extension": ".py",
   "mimetype": "text/x-python",
   "name": "python",
   "nbconvert_exporter": "python",
   "pygments_lexer": "ipython3",
   "version": "3.8.0"
  },
  "orig_nbformat": 4,
  "vscode": {
   "interpreter": {
    "hash": "bd28539c79b8595bff478de9b4c5fdaa085a17ce875b7b632e25c2c6e60d29f4"
   }
  }
 },
 "nbformat": 4,
 "nbformat_minor": 2
}
